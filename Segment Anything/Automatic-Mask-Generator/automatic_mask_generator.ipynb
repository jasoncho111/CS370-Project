{
  "cells": [
    {
      "cell_type": "markdown",
      "metadata": {
        "id": "OQSHLat7EI4C"
      },
      "source": [
        "# Automatically generating object masks with SAM"
      ]
    },
    {
      "cell_type": "markdown",
      "metadata": {
        "id": "5iQKiPbbEI4O"
      },
      "source": [
        "## Install dependencies\n",
        "\n",
        "Uncomment and run the following cell to install the required dependencies."
      ]
    },
    {
      "cell_type": "code",
      "execution_count": null,
      "metadata": {
        "id": "4afltcu_EI4Q"
      },
      "outputs": [],
      "source": [
        "# %pip install segment-geospatial\n",
        "# %pip install gdal\n",
        "# %pip install --upgrade jupyter-leaflet\n",
        "# import torch\n",
        "# torch.cuda.is_available()"
      ]
    },
    {
      "cell_type": "code",
      "execution_count": null,
      "metadata": {
        "id": "f5JHoA13EI4S"
      },
      "outputs": [],
      "source": [
        "import os\n",
        "import leafmap\n",
        "from samgeo import SamGeo, show_image, download_file, overlay_images, tms_to_geotiff"
      ]
    },
    {
      "cell_type": "markdown",
      "metadata": {
        "id": "FBY0zd-VEI4T"
      },
      "source": [
        "## Create an interactive map"
      ]
    },
    {
      "cell_type": "code",
      "execution_count": null,
      "metadata": {
        "id": "u0m9nscgEI4U"
      },
      "outputs": [],
      "source": [
        "m = leafmap.Map(center=[37.8713, -122.2580], zoom=17, height=\"800px\")\n",
        "m.add_basemap(\"SATELLITE\")\n",
        "m"
      ]
    },
    {
      "cell_type": "markdown",
      "metadata": {
        "id": "VuqmWHCmEI4V"
      },
      "source": [
        "\n",
        "Pan and zoom the map to select the area of interest. Use the draw tools to draw a polygon or rectangle on the map"
      ]
    },
    {
      "cell_type": "code",
      "execution_count": null,
      "metadata": {
        "id": "aZEy8PzcEI4W"
      },
      "outputs": [],
      "source": [
        "if m.user_roi_bounds() is not None:\n",
        "    bbox = m.user_roi_bounds()\n",
        "else:\n",
        "    bbox = [-122.2659, 37.8682, -122.2521, 37.8741]"
      ]
    },
    {
      "cell_type": "markdown",
      "metadata": {
        "id": "HFSxLqENEI4X"
      },
      "source": [
        "## Download a sample image"
      ]
    },
    {
      "cell_type": "code",
      "execution_count": null,
      "metadata": {
        "id": "2rlY9th_EI4X"
      },
      "outputs": [],
      "source": [
        "image = \"satellite.tif\"\n",
        "# tms_to_geotiff(output=image, bbox=bbox, zoom=17, source=\"Satellite\", overwrite=True)"
      ]
    },
    {
      "cell_type": "markdown",
      "metadata": {
        "id": "3crgtqooEI4Y"
      },
      "source": [
        "You can also use your own image. Uncomment and run the following cell to use your own image."
      ]
    },
    {
      "cell_type": "code",
      "execution_count": null,
      "metadata": {
        "id": "Xl8ttB-qEI4Z"
      },
      "outputs": [],
      "source": [
        "# image = '/path/to/your/own/image.tif'"
      ]
    },
    {
      "cell_type": "markdown",
      "metadata": {
        "id": "66-edBaXEI4Z"
      },
      "source": [
        "Display the downloaded image on the map."
      ]
    },
    {
      "cell_type": "code",
      "execution_count": null,
      "metadata": {
        "id": "AvWMhIZxEI4Z"
      },
      "outputs": [],
      "source": [
        "m.layers[-1].visible = False\n",
        "m.add_raster(image, layer_name=\"Image\")\n",
        "m"
      ]
    },
    {
      "cell_type": "markdown",
      "metadata": {
        "id": "EDLVUXEJEI4a"
      },
      "source": [
        "## Initialize SAM class\n",
        "\n",
        "Specify the file path to the model checkpoint. If it is not specified, the model will to downloaded to the working directory."
      ]
    },
    {
      "cell_type": "code",
      "execution_count": null,
      "metadata": {
        "id": "67zbpiKMEI4a"
      },
      "outputs": [],
      "source": [
        "sam = SamGeo(\n",
        "    model_type=\"vit_h\",\n",
        "    sam_kwargs=None,\n",
        ")"
      ]
    },
    {
      "cell_type": "markdown",
      "metadata": {
        "id": "wRtNOjKgEI4b"
      },
      "source": [
        "## Automatic mask generation\n",
        "\n",
        "Segment the image and save the results to a GeoTIFF file. Set `unique=True` to assign a unique ID to each object."
      ]
    },
    {
      "cell_type": "code",
      "execution_count": null,
      "metadata": {
        "id": "wymEb0yoEI4b"
      },
      "outputs": [],
      "source": [
        "sam.generate(image, output=\"masks.tif\", foreground=True, unique=True)"
      ]
    },
    {
      "cell_type": "code",
      "execution_count": null,
      "metadata": {
        "id": "rq2C3e1NEI4b"
      },
      "outputs": [],
      "source": [
        "sam.show_masks(cmap=\"binary_r\")"
      ]
    },
    {
      "cell_type": "markdown",
      "metadata": {
        "id": "T9RWIsVGEI4c"
      },
      "source": [
        "Show the object annotations (objects with random color) on the map."
      ]
    },
    {
      "cell_type": "code",
      "execution_count": null,
      "metadata": {
        "id": "9JBP9MOlEI4c"
      },
      "outputs": [],
      "source": [
        "sam.show_anns(axis=\"off\", alpha=1, output=\"annotations.tif\")"
      ]
    },
    {
      "cell_type": "markdown",
      "metadata": {
        "id": "lrfXQTnlEI4c"
      },
      "source": [
        "Compare images with a slider."
      ]
    },
    {
      "cell_type": "code",
      "execution_count": null,
      "metadata": {
        "id": "ZDmnhBVTEI4d"
      },
      "outputs": [],
      "source": [
        "# leafmap.image_comparison(\n",
        "#     \"satellite.tif\",\n",
        "#     \"annotations.tif\",\n",
        "#     label1=\"Satellite Image\",\n",
        "#     label2=\"Image Segmentation\",\n",
        "# )"
      ]
    },
    {
      "cell_type": "markdown",
      "metadata": {
        "id": "Melp_B48EI4d"
      },
      "source": [
        "Add image to the map."
      ]
    },
    {
      "cell_type": "code",
      "execution_count": null,
      "metadata": {
        "id": "c3HqT6X5EI4d"
      },
      "outputs": [],
      "source": [
        "m.add_raster(\"annotations.tif\", alpha=0.5, layer_name=\"Masks\")\n",
        "# m"
      ]
    },
    {
      "cell_type": "markdown",
      "metadata": {
        "id": "DIJ18opUEI4e"
      },
      "source": [
        "Convert the object annotations to vector format, such as GeoPackage, Shapefile, or GeoJSON."
      ]
    },
    {
      "cell_type": "code",
      "execution_count": null,
      "metadata": {
        "id": "RFLmumGyEI4e"
      },
      "outputs": [],
      "source": [
        "sam.tiff_to_vector(\"masks.tif\", \"masks.gpkg\")"
      ]
    },
    {
      "cell_type": "markdown",
      "metadata": {
        "id": "8q2dAWKzEI4e"
      },
      "source": [
        "## Automatic mask generation options\n",
        "\n",
        "There are several tunable parameters in automatic mask generation that control how densely points are sampled and what the thresholds are for removing low quality or duplicate masks. Additionally, generation can be automatically run on crops of the image to get improved performance on smaller objects, and post-processing can remove stray pixels and holes. Here is an example configuration that samples more masks:"
      ]
    },
    {
      "cell_type": "code",
      "execution_count": null,
      "metadata": {
        "id": "u_nBcWCrEI4e"
      },
      "outputs": [],
      "source": [
        "sam_kwargs = {\n",
        "    \"points_per_side\": 32,\n",
        "    \"pred_iou_thresh\": 0.86,\n",
        "    \"stability_score_thresh\": 0.92,\n",
        "    \"crop_n_layers\": 1,\n",
        "    \"crop_n_points_downscale_factor\": 2,\n",
        "    \"min_mask_region_area\": 80,\n",
        "}"
      ]
    },
    {
      "cell_type": "code",
      "execution_count": null,
      "metadata": {
        "id": "KOSfe2Z6EI4f"
      },
      "outputs": [],
      "source": [
        "sam = SamGeo(\n",
        "    model_type=\"vit_h\",\n",
        "    sam_kwargs=sam_kwargs,\n",
        ")"
      ]
    },
    {
      "cell_type": "code",
      "execution_count": null,
      "metadata": {
        "id": "PeCy-05HEI4f"
      },
      "outputs": [],
      "source": [
        "sam.generate(image, output=\"masks2.tif\", foreground=True)"
      ]
    },
    {
      "cell_type": "code",
      "execution_count": null,
      "metadata": {
        "id": "zM4RQOvbEI4f"
      },
      "outputs": [],
      "source": [
        "sam.show_masks(cmap=\"binary_r\")"
      ]
    },
    {
      "cell_type": "code",
      "execution_count": null,
      "metadata": {
        "id": "fDvUUooBEI4g"
      },
      "outputs": [],
      "source": [
        "sam.show_anns(axis=\"off\", opacity=1, output=\"annotations2.tif\")"
      ]
    },
    {
      "cell_type": "markdown",
      "metadata": {
        "id": "tL1gCKlzEI4g"
      },
      "source": [
        "Compare images with a slider."
      ]
    },
    {
      "cell_type": "code",
      "execution_count": null,
      "metadata": {
        "id": "McsdXjOtEI4g"
      },
      "outputs": [],
      "source": [
        "# leafmap.image_comparison(\n",
        "#     image,\n",
        "#     \"annotations.tif\",\n",
        "#     label1=\"Image\",\n",
        "#     label2=\"Image Segmentation\",\n",
        "# )\n"
      ]
    },
    {
      "cell_type": "markdown",
      "metadata": {
        "id": "WRMQCS22EI4g"
      },
      "source": [
        "<p>Overlay the annotations on the image and use the slider to change the opacity interactively.<p>\n",
        "<p> Code to display the slider comparison <p>"
      ]
    },
    {
      "cell_type": "code",
      "execution_count": 1,
      "metadata": {},
      "outputs": [],
      "source": [
        "import matplotlib\n",
        "matplotlib.use('Qt5Agg')  # Set the matplotlib backend to Qt5Agg\n",
        "\n",
        "import matplotlib.pyplot as plt\n",
        "from matplotlib.backends.backend_qt5agg import FigureCanvasQTAgg as FigureCanvas\n",
        "# from PyQt5.QtWidgets import QApplication, QMainWindow, QVBoxLayout, QWidget\n",
        "from osgeo import gdal\n",
        "import numpy as np\n",
        "from matplotlib.widgets import Slider\n",
        "\n",
        "# Load satellite and annotation TIFF files\n",
        "satellite = gdal.Open(\"satellite.tif\")\n",
        "annot = gdal.Open(\"annotations.tif\")\n",
        "\n",
        "# Read bands and stack into RGB arrays\n",
        "def read_and_stack_rgb(band1, band2, band3):\n",
        "    return np.dstack((band1.ReadAsArray(), band2.ReadAsArray(), band3.ReadAsArray()))\n",
        "\n",
        "sat = read_and_stack_rgb(satellite.GetRasterBand(1), satellite.GetRasterBand(2), satellite.GetRasterBand(3))\n",
        "ann = read_and_stack_rgb(annot.GetRasterBand(1), annot.GetRasterBand(2), annot.GetRasterBand(3))\n",
        "\n",
        "# Variables for display\n",
        "alpha = 0.5\n",
        "\n",
        "# Create the plot and slider\n",
        "fig, (ax0, ax1) = plt.subplots(2, 1, gridspec_kw={\"height_ratios\": [10, 1]})\n",
        "img0 = ax0.imshow(sat)\n",
        "img1 = ax0.imshow(ann, alpha=alpha)\n",
        "\n",
        "def update_alpha(value):\n",
        "    alpha = value  # Update the alpha value\n",
        "    img1.set_alpha(alpha)  # Set the new alpha value for the overlay\n",
        "    fig.canvas.draw_idle()  # Redraw the plot\n",
        "\n",
        "# Create the slider\n",
        "# slider_ax = fig.add_axes([0.2, 0.02, 0.6, 0.03])  # [left, bottom, width, height]\n",
        "slider = Slider(ax1, \"Alpha\", 0.0, 1.0, valinit=alpha)\n",
        "slider.on_changed(update_alpha)\n",
        "\n",
        "# Display the plot\n",
        "plt.show()\n",
        "# plt.close('all')\n"
      ]
    }
  ],
  "metadata": {
    "colab": {
      "provenance": []
    },
    "kernelspec": {
      "display_name": "ArcGISPro",
      "language": "Python",
      "name": "python3"
    },
    "language_info": {
      "codemirror_mode": {
        "name": "ipython",
        "version": 3
      },
      "file_extension": ".py",
      "mimetype": "text/x-python",
      "name": "python",
      "nbconvert_exporter": "python",
      "pygments_lexer": "ipython3",
      "version": "3.11.8"
    }
  },
  "nbformat": 4,
  "nbformat_minor": 0
}
